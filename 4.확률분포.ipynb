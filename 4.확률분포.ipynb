{
 "cells": [
  {
   "cell_type": "markdown",
   "metadata": {},
   "source": [
    "# 4.1 확률변수(random variable)"
   ]
  },
  {
   "cell_type": "markdown",
   "metadata": {},
   "source": [
    "확률변수 : 확률변수 X는 표본공간의 각 단위사건에 실수 값을 부여하는 함수 "
   ]
  },
  {
   "cell_type": "markdown",
   "metadata": {},
   "source": [
    "- 이산확률변수 : 확률변수 x가 취할수 있는 값이 유한개 또는 자연수와 일대일 대응 되는 무한 개일 경우 "
   ]
  },
  {
   "cell_type": "markdown",
   "metadata": {},
   "source": [
    "- 연속확률변수 : 확률변수 x가 일정 구간의 모든 실수 값을 가질수 있으면 이를 연속확률변수(continuous random variable)이라 한다. 예) 나이, 몸무게 "
   ]
  },
  {
   "cell_type": "markdown",
   "metadata": {},
   "source": [
    "# 4.2 베르누이 시행과 이항분포"
   ]
  },
  {
   "cell_type": "markdown",
   "metadata": {},
   "source": [
    "**베르누이 시행 조건**"
   ]
  },
  {
   "cell_type": "markdown",
   "metadata": {},
   "source": [
    "- 시행의 결과는 두 가지 성공과 실패 중 하나로 나타낸다.\n",
    "- 각 시행에서 성공의 확률은 동일해야 한다.\n",
    "- 각 시행은 서로 독립이어야 한다. "
   ]
  },
  {
   "cell_type": "markdown",
   "metadata": {},
   "source": [
    "x : n번의 베르누이 시행에서 성공의 횟수\n",
    "\n",
    "p : 각 베르누이 시행에서 성공의 확률"
   ]
  }
 ],
 "metadata": {
  "kernelspec": {
   "display_name": "Python 3",
   "language": "python",
   "name": "python3"
  },
  "language_info": {
   "codemirror_mode": {
    "name": "ipython",
    "version": 3
   },
   "file_extension": ".py",
   "mimetype": "text/x-python",
   "name": "python",
   "nbconvert_exporter": "python",
   "pygments_lexer": "ipython3",
   "version": "3.6.3"
  }
 },
 "nbformat": 4,
 "nbformat_minor": 2
}
