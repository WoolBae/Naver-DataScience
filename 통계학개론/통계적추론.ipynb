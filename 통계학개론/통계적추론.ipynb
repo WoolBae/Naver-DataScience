{
 "cells": [
  {
   "cell_type": "markdown",
   "metadata": {},
   "source": [
    "# 5.1 점추정(Statical Inference)"
   ]
  },
  {
   "cell_type": "markdown",
   "metadata": {},
   "source": [
    "모집단으로부터 표본을 추출하여 모집단의 특성을 나타내는 모수에 대한 여러가지 정보를 얻기 위한 일련의 과정"
   ]
  },
  {
   "cell_type": "markdown",
   "metadata": {},
   "source": [
    "# 5.2 구간추정(Interval Estimation)"
   ]
  },
  {
   "cell_type": "markdown",
   "metadata": {},
   "source": [
    "### 대표본에서 구간추정"
   ]
  },
  {
   "cell_type": "markdown",
   "metadata": {},
   "source": [
    "1-a 는 신뢰수준(level of confidence)라고 하며, 흔히 0.01,0.05 또는 0.1.을 많이 사용한다"
   ]
  },
  {
   "cell_type": "markdown",
   "metadata": {},
   "source": [
    "### 소표본에서 구간추정"
   ]
  },
  {
   "cell_type": "markdown",
   "metadata": {},
   "source": [
    "** 표본의크기(n <25)가 작을 경우 구간추정**"
   ]
  },
  {
   "cell_type": "markdown",
   "metadata": {},
   "source": [
    "소표본인 경우에는 임의표본이 반드시 정규분포를 따른다는 가정 필요"
   ]
  },
  {
   "cell_type": "markdown",
   "metadata": {},
   "source": [
    "# 5.3 통계적 가설검정"
   ]
  },
  {
   "cell_type": "markdown",
   "metadata": {},
   "source": [
    "통계적 가설: 가설의 참과 거짓을 귀납법, 연역법 등으로 증명할 수 없고 관련된 통계 자료를 이용하여 가장 가능성이 높은 결론을 내리고자 하는 것 <반드시 오류를 수반>"
   ]
  },
  {
   "cell_type": "markdown",
   "metadata": {},
   "source": [
    "### 문제를 이용한 통계적 가설 검정의 절차"
   ]
  },
  {
   "cell_type": "markdown",
   "metadata": {},
   "source": [
    "- (1) 귀무가설과 대립가설을 세운다.\n",
    "\n",
    "- (2) 검정통계량을 선택한다. 검정통계량: 귀무가설의 기각 여부를 결정하는데 사용되는 통계량\n",
    "\n",
    "- (3) 기각역을 설정한다: 귀무가설이 기각되는 영역"
   ]
  },
  {
   "cell_type": "markdown",
   "metadata": {},
   "source": [
    "**1종오류** : 귀무가설이 맞음에도 불구하고 귀무가설을 기각하는 오류를 일으킬 확률\n"
   ]
  },
  {
   "cell_type": "markdown",
   "metadata": {},
   "source": [
    "**2종오류** : 귀무가설이 틀림에도 불구하고 귀무가설을 기각하지 않는 오류를 일으킬 확률"
   ]
  },
  {
   "cell_type": "markdown",
   "metadata": {
    "collapsed": true
   },
   "source": [
    "### 유의확률"
   ]
  },
  {
   "cell_type": "markdown",
   "metadata": {},
   "source": [
    "** 주어진 검정통계량을 기각시키기 위한 제1종오류의 최소값**"
   ]
  },
  {
   "cell_type": "markdown",
   "metadata": {},
   "source": [
    "유의 확률에 대한 몇 가지 사실\n",
    "- 유의확률이 작을수록 귀무가설을 기각할 수 있는 정당성이 커진다.\n",
    "\n",
    "- 주어진 유의수준 a에서 귀무가설이 기각  => 유의확률 < 유의수준\n",
    "\n",
    "- 주어진 유의수준 a에서 귀무가설이 채택 => 유의확률 > 유의수준"
   ]
  },
  {
   "cell_type": "markdown",
   "metadata": {},
   "source": [
    "- 0.05 < p-value < 0.1 : 유의함\n",
    "\n",
    "- 0.01 < p-value < 0.05 : 매우 유의함\n",
    "\n",
    "- p-value < 0.01 : 매유 강력하게 유의함 \n",
    "\n",
    "-> 귀무가설을 기각하고 대립가설을 채택한다."
   ]
  }
 ],
 "metadata": {
  "kernelspec": {
   "display_name": "Python 3",
   "language": "python",
   "name": "python3"
  },
  "language_info": {
   "codemirror_mode": {
    "name": "ipython",
    "version": 3
   },
   "file_extension": ".py",
   "mimetype": "text/x-python",
   "name": "python",
   "nbconvert_exporter": "python",
   "pygments_lexer": "ipython3",
   "version": "3.6.3"
  }
 },
 "nbformat": 4,
 "nbformat_minor": 2
}
