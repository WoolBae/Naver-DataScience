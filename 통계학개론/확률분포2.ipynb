{
 "cells": [
  {
   "cell_type": "markdown",
   "metadata": {},
   "source": [
    "# 포아송분포"
   ]
  },
  {
   "cell_type": "markdown",
   "metadata": {},
   "source": [
    "X : 단위시간 또는 단위공간에서 발생되는 사건의수\n",
    "\n",
    "m : 단위시간 또는 단위공간에서 발생되는 사건 수의 평균, m = E(X)"
   ]
  },
  {
   "cell_type": "markdown",
   "metadata": {},
   "source": [
    "포아송분포는 모평균과 모분산이 같다."
   ]
  },
  {
   "cell_type": "markdown",
   "metadata": {},
   "source": [
    "**포아송 분포를 따르기 위한 조건**"
   ]
  },
  {
   "cell_type": "markdown",
   "metadata": {},
   "source": [
    "- 독립성: 단위시간 또는 단위공간에서 발생되는 사건의 수는 또 다른 단위시간 또는 단위공간에서 발생되는 사건의 수와 무관하다.\n",
    "\n",
    "- 단일성: 동시에 두 개 이상의 사건이 발생할 확률은 0에 가깝다.\n",
    "\n",
    "- 등발성: 사건의 수 평균 m은 모든 단위시간 또는 단위공간에서 일정하다."
   ]
  },
  {
   "cell_type": "markdown",
   "metadata": {},
   "source": [
    "이항분포에서 시행횟수 n이 매우 크고 성공의 확률p는 매우작으며 np ->m이 되면 이항분포는 포아송분포와 매우 가까워진다.\n"
   ]
  },
  {
   "cell_type": "markdown",
   "metadata": {},
   "source": [
    "# 표본의 분포"
   ]
  },
  {
   "cell_type": "markdown",
   "metadata": {},
   "source": [
    "## 모수"
   ]
  },
  {
   "cell_type": "markdown",
   "metadata": {},
   "source": [
    "모집단의 특성을  나타내는 값 알 수 없는 상수인 모수의 값을 추정하기 위해 모집단으로 부터 크기 n인 표본을 추출"
   ]
  },
  {
   "cell_type": "markdown",
   "metadata": {},
   "source": [
    "## 통계량"
   ]
  },
  {
   "cell_type": "markdown",
   "metadata": {},
   "source": [
    "표본들만의 함수로 표현, 통계량은 특정 모수를 추정하기 위해 표본을 이용하여 만든 함수"
   ]
  },
  {
   "cell_type": "markdown",
   "metadata": {},
   "source": [
    "## 표본분포"
   ]
  },
  {
   "cell_type": "markdown",
   "metadata": {},
   "source": [
    "통계량이 갖는 분포"
   ]
  },
  {
   "cell_type": "markdown",
   "metadata": {},
   "source": [
    "## 임의표본"
   ]
  },
  {
   "cell_type": "markdown",
   "metadata": {},
   "source": [
    "n개의 표본이 동일한 모집단을 가지며 서로 독립일때 임의표본이라고 한다."
   ]
  },
  {
   "cell_type": "markdown",
   "metadata": {},
   "source": [
    "## 중심극한정리"
   ]
  },
  {
   "cell_type": "markdown",
   "metadata": {},
   "source": [
    "표본의 크기가 클수록 표본의 분포는 더 정규분포에 가까이 수렴하며 흔히 표본의 크기가 25보다 크면 중심극한정리를 이용할 수 있다."
   ]
  }
 ],
 "metadata": {
  "kernelspec": {
   "display_name": "Python 3",
   "language": "python",
   "name": "python3"
  },
  "language_info": {
   "codemirror_mode": {
    "name": "ipython",
    "version": 3
   },
   "file_extension": ".py",
   "mimetype": "text/x-python",
   "name": "python",
   "nbconvert_exporter": "python",
   "pygments_lexer": "ipython3",
   "version": "3.6.3"
  }
 },
 "nbformat": 4,
 "nbformat_minor": 2
}
