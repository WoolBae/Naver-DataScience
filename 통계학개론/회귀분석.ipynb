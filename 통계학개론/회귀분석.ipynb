{
 "cells": [
  {
   "cell_type": "markdown",
   "metadata": {},
   "source": [
    "## 두가지 형태의 모형"
   ]
  },
  {
   "cell_type": "markdown",
   "metadata": {},
   "source": [
    "** 1. 결정적(수학적) 모형: input과 output의 관계가 오차 없이 명확**\n",
    "- 힘 = 질량 x 가속도\n",
    "- 화씨 = 32 + 1.8 x 섭씨\n",
    "    \n"
   ]
  },
  {
   "cell_type": "markdown",
   "metadata": {},
   "source": [
    " **2 통계적 모형: output이 input에 의해 영향을 받는 경향을 보이며 언제나 오반을 수치**"
   ]
  },
  {
   "cell_type": "markdown",
   "metadata": {},
   "source": [
    "- 매출액 = 100 + 0.1 x 광고비 + e, \n",
    "- 수축기 혈압 = 110 + 0.1 x 연령 + 0.15 x 몸무게 + e"
   ]
  },
  {
   "cell_type": "markdown",
   "metadata": {},
   "source": [
    "** 회귀분석이란 반응변수와 설명변수를 관측하여 회귀함수를 추정하는 것.**\n"
   ]
  },
  {
   "cell_type": "markdown",
   "metadata": {},
   "source": [
    "## 회귀모형의 종류"
   ]
  },
  {
   "cell_type": "markdown",
   "metadata": {},
   "source": [
    "### 모수회귀모형(parametric regression model)"
   ]
  },
  {
   "cell_type": "markdown",
   "metadata": {},
   "source": [
    "- 단순선형회귀모형(simple linear regression model)\n",
    "\n",
    "\n",
    "\n",
    "- 다중선형회귀모형(multiple linear regression model)\n",
    "\n",
    "\n",
    "\n",
    "- 비선형회귀모형(non-linear regression model)\n",
    "\n",
    "\n",
    "- k-차 다항회귀모형(k-th degree polynomial regression model)\n",
    "\n",
    "\n",
    "\n",
    "- 로지스틱 회귀모형(logistic regression model): 반응변수가 이항분포(성공횟수)를 따를때\n",
    "\n",
    "\n",
    "- 로그선형모형(log-linear regression model): 반응변수가 포아송분포를 따를때\n",
    "\n"
   ]
  },
  {
   "cell_type": "markdown",
   "metadata": {},
   "source": [
    "### 비모수회귀모형(nonparametric regression model)"
   ]
  },
  {
   "cell_type": "markdown",
   "metadata": {},
   "source": [
    "** 회귀함수 f의 형태를 구체적으로 명시하지 않고 함수의 추정치를 계산**"
   ]
  },
  {
   "cell_type": "markdown",
   "metadata": {},
   "source": [
    "___ _"
   ]
  },
  {
   "cell_type": "markdown",
   "metadata": {},
   "source": [
    "# 단순선형회귀모형"
   ]
  },
  {
   "cell_type": "markdown",
   "metadata": {},
   "source": [
    "y = wx + b\n",
    "- y : 반응변수\n",
    "- x : 설명변수\n",
    "- b : 오차량\n",
    "- w : 회귀계수"
   ]
  },
  {
   "cell_type": "markdown",
   "metadata": {},
   "source": [
    "# 다중선형회귀모형"
   ]
  },
  {
   "cell_type": "markdown",
   "metadata": {
    "collapsed": true
   },
   "source": [
    "설명변수가 2개이상"
   ]
  }
 ],
 "metadata": {
  "kernelspec": {
   "display_name": "Python 3",
   "language": "python",
   "name": "python3"
  },
  "language_info": {
   "codemirror_mode": {
    "name": "ipython",
    "version": 3
   },
   "file_extension": ".py",
   "mimetype": "text/x-python",
   "name": "python",
   "nbconvert_exporter": "python",
   "pygments_lexer": "ipython3",
   "version": "3.6.3"
  }
 },
 "nbformat": 4,
 "nbformat_minor": 2
}
