{
 "cells": [
  {
   "cell_type": "markdown",
   "metadata": {},
   "source": [
    "# 3.1 확률의 정의"
   ]
  },
  {
   "cell_type": "markdown",
   "metadata": {},
   "source": [
    "미래에 일어날 일\n",
    "- 완전하게 예측 가능한 사건 예) 자연현상 중에서 과학적으로 증명이 된 사건\n",
    "- 불확실성(uncertainty)을 가진 사건 예) 현재로선 정확하게 알 수 없는 사건"
   ]
  },
  {
   "cell_type": "markdown",
   "metadata": {},
   "source": [
    "**통계학의 역할** : 불확실한 사건에 대하여 자료를 근거로 가장 객관적이고 합리적으로 확률을 제시"
   ]
  },
  {
   "cell_type": "markdown",
   "metadata": {},
   "source": [
    "### 확률의 정의"
   ]
  },
  {
   "cell_type": "markdown",
   "metadata": {},
   "source": [
    "- 실험: 실행하기 전에는 그 결과를 알 수 없는 행위\n",
    "- 표본공간: 실험을 하였을 때 나타날수 있는 모든 결과를 모은 집합\n",
    "- 단순사건: 표본공간의 원소 하나하나\n",
    "- 사건: 표본공간의 부분집합"
   ]
  },
  {
   "cell_type": "markdown",
   "metadata": {},
   "source": [
    "** 확률 ** :표본공간에서 정의된 함수이며 0과 1사이의 값을 가짐"
   ]
  },
  {
   "cell_type": "markdown",
   "metadata": {},
   "source": [
    "# 3.2 확률의 법칙"
   ]
  },
  {
   "cell_type": "markdown",
   "metadata": {},
   "source": [
    "#### 집합의 종류"
   ]
  },
  {
   "cell_type": "markdown",
   "metadata": {},
   "source": [
    "- 합집합(union)\n",
    "- 교집합(intersection)\n",
    "- 여집합(complement)\n",
    "- 배반사건(disjoint event)"
   ]
  },
  {
   "cell_type": "markdown",
   "metadata": {},
   "source": [
    "# 3.3 조건부 확률과 독립"
   ]
  },
  {
   "cell_type": "markdown",
   "metadata": {},
   "source": [
    "### 조건부 확률"
   ]
  },
  {
   "cell_type": "markdown",
   "metadata": {},
   "source": [
    "P(B) > 0, 인 경우 사건 B가 주어졌을때 사건A의 확률"
   ]
  },
  {
   "cell_type": "markdown",
   "metadata": {},
   "source": [
    "# 3.4 임의표본"
   ]
  },
  {
   "cell_type": "markdown",
   "metadata": {},
   "source": [
    "- 표본이 서로 독립이고 같은 분포를 가지면 임의표본이라고 한다.\n",
    "- 임의 표본은 흔히 iid(independent and identically distributed) 라고 함"
   ]
  }
 ],
 "metadata": {
  "kernelspec": {
   "display_name": "Python 3",
   "language": "python",
   "name": "python3"
  },
  "language_info": {
   "codemirror_mode": {
    "name": "ipython",
    "version": 3
   },
   "file_extension": ".py",
   "mimetype": "text/x-python",
   "name": "python",
   "nbconvert_exporter": "python",
   "pygments_lexer": "ipython3",
   "version": "3.6.3"
  }
 },
 "nbformat": 4,
 "nbformat_minor": 2
}
